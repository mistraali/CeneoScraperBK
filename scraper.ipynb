{
 "cells": [
  {
   "cell_type": "markdown",
   "metadata": {},
   "source": [
    "# Ceneo Scraper"
   ]
  },
  {
   "cell_type": "markdown",
   "metadata": {},
   "source": [
    "1. Import bibliotek"
   ]
  },
  {
   "cell_type": "code",
   "execution_count": null,
   "metadata": {},
   "outputs": [],
   "source": [
    "import requests\n",
    "from bs4 import BeautifulSoup"
   ]
  },
  {
   "cell_type": "markdown",
   "metadata": {},
   "source": [
    "2. Strona produktu"
   ]
  },
  {
   "cell_type": "code",
   "execution_count": null,
   "metadata": {},
   "outputs": [],
   "source": [
    "produkt_id = \"84514582\"\n",
    "url = f\"https://www.ceneo.pl/{produkt_id}#tab=reviews\""
   ]
  },
  {
   "cell_type": "markdown",
   "metadata": {},
   "source": [
    "3. Wysłanie żądania dostępu do zasobu"
   ]
  },
  {
   "cell_type": "code",
   "execution_count": null,
   "metadata": {},
   "outputs": [],
   "source": [
    "response = requests.get(url)\n",
    "response.status_code"
   ]
  },
  {
   "cell_type": "markdown",
   "metadata": {},
   "source": [
    "4. Pobranie opinii z kodu HTML strony"
   ]
  },
  {
   "cell_type": "code",
   "execution_count": null,
   "metadata": {},
   "outputs": [],
   "source": [
    "page = BeautifulSoup(response.text, \"html.parser\")\n",
    "opinions = page.select(\"div.js_product-review\")\n",
    "opinion = page.select_one(\"div.js_product-review\")\n",
    "print(type(opinions))\n",
    "print(type(opinion))\n",
    "print(opinion)"
   ]
  },
  {
   "cell_type": "markdown",
   "metadata": {},
   "source": [
    "5. Pobranie składowych pojedynczej opinii"
   ]
  },
  {
   "cell_type": "markdown",
   "metadata": {},
   "source": [
    "|składowa|zmienna|selektor|\n",
    "|--------|-------|--------|\n",
    "|identyfikator opinii|opinion_id|[\"data-entry-id\"]|\n",
    "|autora|author|span.user-post__author-name|\n",
    "|rekomendację|recommendation|span.user-post__author-recomendation > em|\n",
    "|liczbę gwiazdek|rating|span.user-post__score_count|\n",
    "|treść opinii|content|div.user-post__text|\n",
    "|listę zalet|pros|div.review-feature__title--positives ~ div.review-feature__item|\n",
    "|listę wad|cons|div.review-feature__title--negatives ~ div.review-feature__item|\n",
    "|data wystawienia opinii|opinion_date|span.user-post__published > time:nth-child(1)[\"datetime\"]|\n",
    "|data zakupu produktu|purchase_date|span.user-post__published > time:nth-child(2)[\"datetime\"]|\n",
    "|ile osób uznało opinię za przydatną|likes|button.vote-yes > span|\n",
    "|ile osób uznało opinię za nieprzydatną|dislikes|button.vote-no > span|"
   ]
  },
  {
   "cell_type": "code",
   "execution_count": null,
   "metadata": {},
   "outputs": [],
   "source": [
    "author = opinion.select_one(\"span.user-post__author-name\").get_text().strip()\n",
    "#recommendation = opinion.select_one(\"span.user-post__author-recomendation > em\").get_text().strip()\n",
    "rating = opinion.select_one(\"span.user-post__score-count\").get_text().strip()\n",
    "content = opinion.select_one(\"div.user-post__text\").get_text().strip()\n",
    "pros = list(map(lambda p: p.get_text().strip(),opinion.select(\"div.review-feature__title--positives ~ div.review-feature__item\")))\n",
    "cons = [c.get_text().strip() for c in opinion.select(\"div.review-feature__title--negatives ~ div.review-feature__item\")]\n",
    "opinion_date = opinion.select_one(\"span.user-post__published > time:nth-child(1)\")[\"datetime\"].strip()\n",
    "purchase_date = opinion.select_one(\"span.user-post__published > time:nth-child(2)\")[\"datetime\"].strip()\n",
    "likes = opinion.select_one(\"button.vote-yes > span\").get_text().strip()\n",
    "dislikes = opinion.select_one(\"button.vote-no > span\").get_text().strip()\n",
    "opinion_id = opinion[\"data-entry-id\"].strip()\n",
    "\n",
    "\n"
   ]
  }
 ],
 "metadata": {
  "kernelspec": {
   "display_name": ".venv",
   "language": "python",
   "name": "python3"
  },
  "language_info": {
   "codemirror_mode": {
    "name": "ipython",
    "version": 3
   },
   "file_extension": ".py",
   "mimetype": "text/x-python",
   "name": "python",
   "nbconvert_exporter": "python",
   "pygments_lexer": "ipython3",
   "version": "3.11.4"
  }
 },
 "nbformat": 4,
 "nbformat_minor": 2
}
